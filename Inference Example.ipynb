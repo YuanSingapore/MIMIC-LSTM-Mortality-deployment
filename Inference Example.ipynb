{
 "cells": [
  {
   "cell_type": "markdown",
   "id": "a161d02a",
   "metadata": {},
   "source": [
    "## Import all the libraries"
   ]
  },
  {
   "cell_type": "code",
   "execution_count": 5,
   "id": "0ed5cd00",
   "metadata": {},
   "outputs": [],
   "source": [
    "import os\n",
    "import numpy as np\n",
    "from utils.readers import InHospitalMortalityReader\n",
    "\n",
    "from utils.preprocessing import Discretizer, Normalizer"
   ]
  },
  {
   "cell_type": "code",
   "execution_count": 6,
   "id": "4e107ccc",
   "metadata": {},
   "outputs": [],
   "source": [
    "from utils import utils\n",
    "import imp\n",
    "import os"
   ]
  },
  {
   "cell_type": "code",
   "execution_count": 176,
   "id": "711a3acf",
   "metadata": {},
   "outputs": [
    {
     "name": "stdout",
     "output_type": "stream",
     "text": [
      "['10011_episode1_timeseries.csv', '1\\n']\n",
      "10011_episode1_timeseries.csv 1\n",
      "\n",
      "['10026_episode1_timeseries.csv', '0\\n']\n"
     ]
    }
   ],
   "source": [
    "data_path='data'\n",
    "test_reader = InHospitalMortalityReader(dataset_dir=os.path.join(data_path, 'test'),\n",
    "                          listfile=os.path.join(data_path, 'test1_listfile.csv'),period_length=48.0)"
   ]
  },
  {
   "cell_type": "code",
   "execution_count": 170,
   "id": "f2050460",
   "metadata": {},
   "outputs": [],
   "source": [
    "## normalizer\n",
    "cont_channels=[2, 3, 49, 50, 51, 52, 53, 54, 55, 56, 57, 58]\n",
    "normalizer = Normalizer(fields=cont_channels) \n",
    "normalizer_state = 'utils/ihm_ts1.0.input_str:previous.start_time:zero.normalizer'\n",
    "normalizer.load_params(normalizer_state)"
   ]
  },
  {
   "cell_type": "code",
   "execution_count": 171,
   "id": "34693d9c",
   "metadata": {},
   "outputs": [
    {
     "name": "stdout",
     "output_type": "stream",
     "text": [
      "config_path~~~~~~~in preprocessing.py /home/ec2-user/SageMaker/Deployment/MIMIC-LSTM-Mortality-deployment/utils/discretizer_config.json\n"
     ]
    }
   ],
   "source": [
    "## discretizer\n",
    "discretizer = Discretizer(timestep=1.0,\n",
    "                          store_masks=True,\n",
    "                          impute_strategy='previous',\n",
    "                          start_time='zero')"
   ]
  },
  {
   "cell_type": "code",
   "execution_count": 177,
   "id": "0cd27854",
   "metadata": {},
   "outputs": [],
   "source": [
    "test_data_gen = utils.BatchGen(reader=test_reader,\n",
    "                           discretizer=discretizer,\n",
    "                           normalizer=normalizer,\n",
    "                           partition='none',\n",
    "                           batch_size=16,\n",
    "                           steps=None,  \n",
    "                           shuffle=False,\n",
    "                           return_names=True)"
   ]
  },
  {
   "cell_type": "markdown",
   "id": "762dc664",
   "metadata": {},
   "source": [
    "## Prepare Model"
   ]
  },
  {
   "cell_type": "code",
   "execution_count": 12,
   "id": "0a3ab894",
   "metadata": {},
   "outputs": [],
   "source": [
    "arg_dict= {'batch_norm': False, 'batch_size': 16, 'beta_1': 0.9, 'data': '/home/ec2-user/SageMaker/mimic3-benchmarks/data/in-hospital-mortality', 'depth': 2, 'dim': 16, 'dropout': 0.3, 'epochs': 60, 'imputation': 'previous', 'l1': 0, 'l2': 0, 'load_state': '', 'lr': 0.001, 'mode': 'train', 'network': 'mimic3models/keras_models/lstm.py', 'normalizer_state': None, 'optimizer': 'adam', 'output_dir': 'mimic3models/in_hospital_mortality', 'prefix': '', 'rec_dropout': 0.0, 'save_every': 1, 'size_coef': 4.0, 'small_part': False, 'target_repl_coef': 0.0, 'timestep': 1.0, 'verbose': 2, 'header': ['Capillary refill rate->0.0', 'Capillary refill rate->1.0', 'Diastolic blood pressure', 'Fraction inspired oxygen', 'Glascow coma scale eye opening->To Pain', 'Glascow coma scale eye opening->3 To speech', 'Glascow coma scale eye opening->1 No Response', 'Glascow coma scale eye opening->4 Spontaneously', 'Glascow coma scale eye opening->None', 'Glascow coma scale eye opening->To Speech', 'Glascow coma scale eye opening->Spontaneously', 'Glascow coma scale eye opening->2 To pain', 'Glascow coma scale motor response->1 No Response', 'Glascow coma scale motor response->3 Abnorm flexion', 'Glascow coma scale motor response->Abnormal extension', 'Glascow coma scale motor response->No response', 'Glascow coma scale motor response->4 Flex-withdraws', 'Glascow coma scale motor response->Localizes Pain', 'Glascow coma scale motor response->Flex-withdraws', 'Glascow coma scale motor response->Obeys Commands', 'Glascow coma scale motor response->Abnormal Flexion', 'Glascow coma scale motor response->6 Obeys Commands', 'Glascow coma scale motor response->5 Localizes Pain', 'Glascow coma scale motor response->2 Abnorm extensn', 'Glascow coma scale total->11', 'Glascow coma scale total->10', 'Glascow coma scale total->13', 'Glascow coma scale total->12', 'Glascow coma scale total->15', 'Glascow coma scale total->14', 'Glascow coma scale total->3', 'Glascow coma scale total->5', 'Glascow coma scale total->4', 'Glascow coma scale total->7', 'Glascow coma scale total->6', 'Glascow coma scale total->9', 'Glascow coma scale total->8', 'Glascow coma scale verbal response->1 No Response', 'Glascow coma scale verbal response->No Response', 'Glascow coma scale verbal response->Confused', 'Glascow coma scale verbal response->Inappropriate Words', 'Glascow coma scale verbal response->Oriented', 'Glascow coma scale verbal response->No Response-ETT', 'Glascow coma scale verbal response->5 Oriented', 'Glascow coma scale verbal response->Incomprehensible sounds', 'Glascow coma scale verbal response->1.0 ET/Trach', 'Glascow coma scale verbal response->4 Confused', 'Glascow coma scale verbal response->2 Incomp sounds', 'Glascow coma scale verbal response->3 Inapprop words', 'Glucose', 'Heart Rate', 'Height', 'Mean blood pressure', 'Oxygen saturation', 'Respiratory rate', 'Systolic blood pressure', 'Temperature', 'Weight', 'pH', 'mask->Capillary refill rate', 'mask->Diastolic blood pressure', 'mask->Fraction inspired oxygen', 'mask->Glascow coma scale eye opening', 'mask->Glascow coma scale motor response', 'mask->Glascow coma scale total', 'mask->Glascow coma scale verbal response', 'mask->Glucose', 'mask->Heart Rate', 'mask->Height', 'mask->Mean blood pressure', 'mask->Oxygen saturation', 'mask->Respiratory rate', 'mask->Systolic blood pressure', 'mask->Temperature', 'mask->Weight', 'mask->pH'], 'task': 'ihm', 'target_repl': False}"
   ]
  },
  {
   "cell_type": "code",
   "execution_count": 14,
   "id": "a0e530d8",
   "metadata": {},
   "outputs": [
    {
     "name": "stderr",
     "output_type": "stream",
     "text": [
      "Using TensorFlow backend.\n"
     ]
    },
    {
     "name": "stdout",
     "output_type": "stream",
     "text": [
      "WARNING:tensorflow:From /home/ec2-user/anaconda3/envs/tensorflow_p36/gpu_cuda10.0/lib/python3.6/site-packages/tensorflow_core/__init__.py:1473: The name tf.estimator.inputs is deprecated. Please use tf.compat.v1.estimator.inputs instead.\n",
      "\n",
      "==> not used params in network class: dict_keys(['batch_size', 'beta_1', 'data', 'epochs', 'imputation', 'l1', 'l2', 'load_state', 'lr', 'mode', 'network', 'normalizer_state', 'optimizer', 'output_dir', 'prefix', 'save_every', 'size_coef', 'small_part', 'target_repl_coef', 'timestep', 'verbose', 'header'])\n",
      "final activation is: sigmoid\n",
      "------------------------------------\n",
      "WARNING:tensorflow:From /home/ec2-user/anaconda3/envs/tensorflow_p36/lib/python3.6/site-packages/keras/backend/tensorflow_backend.py:517: The name tf.placeholder is deprecated. Please use tf.compat.v1.placeholder instead.\n",
      "\n",
      "WARNING:tensorflow:From /home/ec2-user/anaconda3/envs/tensorflow_p36/lib/python3.6/site-packages/keras/backend/tensorflow_backend.py:74: The name tf.get_default_graph is deprecated. Please use tf.compat.v1.get_default_graph instead.\n",
      "\n",
      "WARNING:tensorflow:From /home/ec2-user/anaconda3/envs/tensorflow_p36/lib/python3.6/site-packages/keras/backend/tensorflow_backend.py:4138: The name tf.random_uniform is deprecated. Please use tf.random.uniform instead.\n",
      "\n",
      "WARNING:tensorflow:From /home/ec2-user/anaconda3/envs/tensorflow_p36/lib/python3.6/site-packages/keras/backend/tensorflow_backend.py:133: The name tf.placeholder_with_default is deprecated. Please use tf.compat.v1.placeholder_with_default instead.\n",
      "\n",
      "WARNING:tensorflow:From /home/ec2-user/anaconda3/envs/tensorflow_p36/lib/python3.6/site-packages/keras/backend/tensorflow_backend.py:3445: calling dropout (from tensorflow.python.ops.nn_ops) with keep_prob is deprecated and will be removed in a future version.\n",
      "Instructions for updating:\n",
      "Please use `rate` instead of `keep_prob`. Rate should be set to `rate = 1 - keep_prob`.\n",
      "WARNING:tensorflow:From /home/ec2-user/anaconda3/envs/tensorflow_p36/lib/python3.6/site-packages/keras/backend/tensorflow_backend.py:2974: where (from tensorflow.python.ops.array_ops) is deprecated and will be removed in a future version.\n",
      "Instructions for updating:\n",
      "Use tf.where in 2.0, which has the same broadcast rule as np.where\n"
     ]
    }
   ],
   "source": [
    "network=\"source/lstm.py\"\n",
    "model_module = imp.load_source(os.path.basename(network), network)\n",
    "model = model_module.Network(**arg_dict)"
   ]
  },
  {
   "cell_type": "code",
   "execution_count": 15,
   "id": "abb1234e",
   "metadata": {},
   "outputs": [
    {
     "name": "stdout",
     "output_type": "stream",
     "text": [
      "WARNING:tensorflow:From /home/ec2-user/anaconda3/envs/tensorflow_p36/lib/python3.6/site-packages/keras/optimizers.py:790: The name tf.train.Optimizer is deprecated. Please use tf.compat.v1.train.Optimizer instead.\n",
      "\n",
      "WARNING:tensorflow:From /home/ec2-user/anaconda3/envs/tensorflow_p36/lib/python3.6/site-packages/keras/backend/tensorflow_backend.py:3376: The name tf.log is deprecated. Please use tf.math.log instead.\n",
      "\n"
     ]
    }
   ],
   "source": [
    "optimizer_config = {'class_name': 'adam', 'config': {'lr': 0.001, 'beta_1': 0.9}}\n",
    "\n",
    "loss_function = 'binary_crossentropy'\n",
    "model.compile(optimizer=optimizer_config,\n",
    "              loss=loss_function)\n"
   ]
  },
  {
   "cell_type": "code",
   "execution_count": 92,
   "id": "6cab8c07",
   "metadata": {},
   "outputs": [
    {
     "name": "stdout",
     "output_type": "stream",
     "text": [
      "_________________________________________________________________\n",
      "Layer (type)                 Output Shape              Param #   \n",
      "=================================================================\n",
      "X (InputLayer)               (None, None, 76)          0         \n",
      "_________________________________________________________________\n",
      "masking_1 (Masking)          (None, None, 76)          0         \n",
      "_________________________________________________________________\n",
      "bidirectional_1 (Bidirection (None, None, 16)          5440      \n",
      "_________________________________________________________________\n",
      "lstm_2 (LSTM)                (None, 16)                2112      \n",
      "_________________________________________________________________\n",
      "dropout_1 (Dropout)          (None, 16)                0         \n",
      "_________________________________________________________________\n",
      "dense_1 (Dense)              (None, 1)                 17        \n",
      "=================================================================\n",
      "Total params: 7,569\n",
      "Trainable params: 7,569\n",
      "Non-trainable params: 0\n",
      "_________________________________________________________________\n"
     ]
    }
   ],
   "source": [
    "model.load_weights(\"utils/k_lstm.n16.d0.3.dep2.bs16.ts1.0.epoch60.test0.27911064881661624.state\")\n",
    "\n",
    "model.summary()"
   ]
  },
  {
   "cell_type": "code",
   "execution_count": 159,
   "id": "2630a1ad",
   "metadata": {},
   "outputs": [
    {
     "data": {
      "text/plain": [
       "374"
      ]
     },
     "execution_count": 159,
     "metadata": {},
     "output_type": "execute_result"
    }
   ],
   "source": []
  },
  {
   "cell_type": "code",
   "execution_count": 178,
   "id": "64c0843f",
   "metadata": {},
   "outputs": [
    {
     "name": "stdout",
     "output_type": "stream",
     "text": [
      "chunk_size is :  18\n",
      "[0.8027336  0.02925941 0.23275769 0.3569501  0.7338785  0.0310286\n",
      " 0.23003948 0.03422737 0.6440723  0.28503567 0.01060119 0.5275506\n",
      " 0.17951354 0.9368766  0.21848345 0.01922765]\n",
      "[0.01438757 0.74359965]\n"
     ]
    }
   ],
   "source": [
    "names = []\n",
    "ts = []\n",
    "labels = []\n",
    "predictions = []\n",
    "preds=[]\n",
    "for i in range(test_data_gen.steps):\n",
    "            print(\"\\tdone {}/{}\".format(i, test_data_gen.steps), end='\\r')\n",
    "\n",
    "            ret = test_data_gen.next(return_y_true=True)\n",
    "            (x, y_processed, y) = ret[\"data\"]\n",
    "            cur_names = np.array(ret[\"names\"])#.repeat(x[0].shape[1], axis=-1)\n",
    "            cur_ts = ret[\"ts\"]\n",
    "            for single_ts in list(cur_ts):\n",
    "                ts = ts +[single_ts] \n",
    "\n",
    "            pred = model.predict_on_batch(x)\n",
    "            pred = np.array(pred)[:, 0]\n",
    "            print(pred)\n",
    "            \n",
    "            \n",
    "            # predictions\n",
    "            predictions=predictions+list(pred)\n",
    "            \n",
    "            #true values\n",
    "            labels += list(y)\n",
    "            names += list(cur_names)\n",
    "            ts += list(cur_ts)"
   ]
  },
  {
   "cell_type": "code",
   "execution_count": 160,
   "id": "05ed0218",
   "metadata": {},
   "outputs": [],
   "source": [
    "good_indices=[i for i, j in enumerate(predictions) if j >=0.5]"
   ]
  },
  {
   "cell_type": "code",
   "execution_count": 161,
   "id": "becde1cf",
   "metadata": {
    "collapsed": true,
    "jupyter": {
     "outputs_hidden": true
    }
   },
   "outputs": [
    {
     "data": {
      "text/plain": [
       "[0,\n",
       " 1,\n",
       " 2,\n",
       " 3,\n",
       " 11,\n",
       " 13,\n",
       " 16,\n",
       " 19,\n",
       " 25,\n",
       " 30,\n",
       " 33,\n",
       " 35,\n",
       " 37,\n",
       " 43,\n",
       " 50,\n",
       " 51,\n",
       " 58,\n",
       " 59,\n",
       " 62,\n",
       " 63,\n",
       " 78,\n",
       " 79,\n",
       " 80,\n",
       " 85,\n",
       " 86,\n",
       " 90,\n",
       " 103,\n",
       " 105,\n",
       " 108,\n",
       " 109,\n",
       " 110,\n",
       " 122,\n",
       " 127,\n",
       " 131,\n",
       " 132,\n",
       " 139,\n",
       " 145,\n",
       " 147,\n",
       " 155,\n",
       " 156,\n",
       " 157,\n",
       " 160,\n",
       " 162,\n",
       " 163,\n",
       " 168,\n",
       " 169,\n",
       " 170,\n",
       " 177,\n",
       " 178,\n",
       " 179,\n",
       " 180,\n",
       " 181,\n",
       " 182,\n",
       " 183,\n",
       " 184,\n",
       " 197,\n",
       " 199,\n",
       " 202,\n",
       " 204,\n",
       " 205,\n",
       " 207,\n",
       " 211,\n",
       " 216,\n",
       " 220,\n",
       " 221,\n",
       " 223,\n",
       " 229,\n",
       " 231,\n",
       " 233,\n",
       " 237,\n",
       " 239,\n",
       " 241,\n",
       " 242,\n",
       " 244,\n",
       " 245,\n",
       " 249,\n",
       " 250,\n",
       " 252,\n",
       " 257,\n",
       " 261,\n",
       " 264,\n",
       " 265,\n",
       " 270,\n",
       " 272,\n",
       " 274,\n",
       " 276,\n",
       " 285,\n",
       " 299,\n",
       " 304,\n",
       " 306,\n",
       " 308,\n",
       " 309,\n",
       " 313,\n",
       " 319,\n",
       " 321,\n",
       " 323,\n",
       " 328,\n",
       " 331,\n",
       " 332,\n",
       " 334,\n",
       " 336,\n",
       " 339,\n",
       " 340,\n",
       " 341,\n",
       " 343,\n",
       " 344,\n",
       " 346,\n",
       " 353,\n",
       " 356,\n",
       " 357,\n",
       " 362,\n",
       " 365,\n",
       " 369,\n",
       " 370,\n",
       " 371,\n",
       " 372]"
      ]
     },
     "execution_count": 161,
     "metadata": {},
     "output_type": "execute_result"
    }
   ],
   "source": [
    "good_indices"
   ]
  },
  {
   "cell_type": "code",
   "execution_count": 162,
   "id": "d8bf691c",
   "metadata": {},
   "outputs": [],
   "source": [
    "patient_names = [names[i] for i in good_indices]"
   ]
  },
  {
   "cell_type": "code",
   "execution_count": 164,
   "id": "3cf3bb5c",
   "metadata": {},
   "outputs": [],
   "source": [
    "import pandas as pd\n",
    "x=pd.read_csv('data/test_ytrue.csv')"
   ]
  },
  {
   "cell_type": "code",
   "execution_count": 165,
   "id": "7687ad20",
   "metadata": {},
   "outputs": [
    {
     "data": {
      "text/plain": [
       "0      10011_episode1_timeseries.csv\n",
       "1      10094_episode2_timeseries.csv\n",
       "2      10102_episode1_timeseries.csv\n",
       "3      10301_episode2_timeseries.csv\n",
       "4      10453_episode1_timeseries.csv\n",
       "                   ...              \n",
       "369     9905_episode1_timeseries.csv\n",
       "370    99184_episode1_timeseries.csv\n",
       "371    99312_episode1_timeseries.csv\n",
       "372     9936_episode1_timeseries.csv\n",
       "373    99899_episode1_timeseries.csv\n",
       "Name: stay, Length: 374, dtype: object"
      ]
     },
     "execution_count": 165,
     "metadata": {},
     "output_type": "execute_result"
    }
   ],
   "source": [
    "x.stay"
   ]
  },
  {
   "cell_type": "code",
   "execution_count": 166,
   "id": "1fccc3b3",
   "metadata": {},
   "outputs": [],
   "source": [
    "x_sub=x[x.stay.isin(patient_names)]"
   ]
  },
  {
   "cell_type": "code",
   "execution_count": 167,
   "id": "7c03f793",
   "metadata": {},
   "outputs": [
    {
     "data": {
      "text/html": [
       "<div>\n",
       "<style scoped>\n",
       "    .dataframe tbody tr th:only-of-type {\n",
       "        vertical-align: middle;\n",
       "    }\n",
       "\n",
       "    .dataframe tbody tr th {\n",
       "        vertical-align: top;\n",
       "    }\n",
       "\n",
       "    .dataframe thead th {\n",
       "        text-align: right;\n",
       "    }\n",
       "</style>\n",
       "<table border=\"1\" class=\"dataframe\">\n",
       "  <thead>\n",
       "    <tr style=\"text-align: right;\">\n",
       "      <th></th>\n",
       "      <th>stay</th>\n",
       "      <th>y_true</th>\n",
       "    </tr>\n",
       "  </thead>\n",
       "  <tbody>\n",
       "    <tr>\n",
       "      <th>8</th>\n",
       "      <td>10822_episode1_timeseries.csv</td>\n",
       "      <td>1</td>\n",
       "    </tr>\n",
       "    <tr>\n",
       "      <th>11</th>\n",
       "      <td>11438_episode2_timeseries.csv</td>\n",
       "      <td>1</td>\n",
       "    </tr>\n",
       "    <tr>\n",
       "      <th>13</th>\n",
       "      <td>11555_episode1_timeseries.csv</td>\n",
       "      <td>1</td>\n",
       "    </tr>\n",
       "    <tr>\n",
       "      <th>23</th>\n",
       "      <td>12909_episode1_timeseries.csv</td>\n",
       "      <td>1</td>\n",
       "    </tr>\n",
       "    <tr>\n",
       "      <th>24</th>\n",
       "      <td>13153_episode1_timeseries.csv</td>\n",
       "      <td>1</td>\n",
       "    </tr>\n",
       "  </tbody>\n",
       "</table>\n",
       "</div>"
      ],
      "text/plain": [
       "                             stay  y_true\n",
       "8   10822_episode1_timeseries.csv       1\n",
       "11  11438_episode2_timeseries.csv       1\n",
       "13  11555_episode1_timeseries.csv       1\n",
       "23  12909_episode1_timeseries.csv       1\n",
       "24  13153_episode1_timeseries.csv       1"
      ]
     },
     "execution_count": 167,
     "metadata": {},
     "output_type": "execute_result"
    }
   ],
   "source": [
    "x_sub.head()"
   ]
  },
  {
   "cell_type": "code",
   "execution_count": 168,
   "id": "a114e576",
   "metadata": {},
   "outputs": [],
   "source": [
    "x_sub.to_csv('data/pos.csv',index=False)"
   ]
  },
  {
   "cell_type": "code",
   "execution_count": 174,
   "id": "ce26fb3c",
   "metadata": {},
   "outputs": [],
   "source": [
    "x1=pd.read_csv('data/test2_listfile.csv')"
   ]
  },
  {
   "cell_type": "code",
   "execution_count": 175,
   "id": "866a9c00",
   "metadata": {},
   "outputs": [],
   "source": [
    "x1.append(x_sub[:6]).to_csv('data/test1_listfile.csv',index=False)"
   ]
  },
  {
   "cell_type": "code",
   "execution_count": null,
   "id": "19755c2a",
   "metadata": {},
   "outputs": [],
   "source": []
  }
 ],
 "metadata": {
  "kernelspec": {
   "display_name": "conda_tensorflow_p36",
   "language": "python",
   "name": "conda_tensorflow_p36"
  },
  "language_info": {
   "codemirror_mode": {
    "name": "ipython",
    "version": 3
   },
   "file_extension": ".py",
   "mimetype": "text/x-python",
   "name": "python",
   "nbconvert_exporter": "python",
   "pygments_lexer": "ipython3",
   "version": "3.6.13"
  }
 },
 "nbformat": 4,
 "nbformat_minor": 5
}
